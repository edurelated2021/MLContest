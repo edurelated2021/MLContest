{
  "cells": [
    {
      "cell_type": "code",
      "execution_count": 1,
      "metadata": {
        "colab": {
          "base_uri": "https://localhost:8080/"
        },
        "id": "M6YgFHzPBrLw",
        "outputId": "7ede5880-9d24-4f95-c9d6-378b35fae555"
      },
      "outputs": [
        {
          "output_type": "stream",
          "name": "stdout",
          "text": [
            "Found existing installation: scikit-learn 1.6.1\n",
            "Uninstalling scikit-learn-1.6.1:\n",
            "  Successfully uninstalled scikit-learn-1.6.1\n",
            "Collecting scikit-learn==1.3.1\n",
            "  Downloading scikit_learn-1.3.1-cp311-cp311-manylinux_2_17_x86_64.manylinux2014_x86_64.whl.metadata (11 kB)\n",
            "Requirement already satisfied: numpy<2.0,>=1.17.3 in /usr/local/lib/python3.11/dist-packages (from scikit-learn==1.3.1) (1.26.4)\n",
            "Requirement already satisfied: scipy>=1.5.0 in /usr/local/lib/python3.11/dist-packages (from scikit-learn==1.3.1) (1.13.1)\n",
            "Requirement already satisfied: joblib>=1.1.1 in /usr/local/lib/python3.11/dist-packages (from scikit-learn==1.3.1) (1.4.2)\n",
            "Requirement already satisfied: threadpoolctl>=2.0.0 in /usr/local/lib/python3.11/dist-packages (from scikit-learn==1.3.1) (3.5.0)\n",
            "Downloading scikit_learn-1.3.1-cp311-cp311-manylinux_2_17_x86_64.manylinux2014_x86_64.whl (10.9 MB)\n",
            "\u001b[2K   \u001b[90m━━━━━━━━━━━━━━━━━━━━━━━━━━━━━━━━━━━━━━━━\u001b[0m \u001b[32m10.9/10.9 MB\u001b[0m \u001b[31m31.4 MB/s\u001b[0m eta \u001b[36m0:00:00\u001b[0m\n",
            "\u001b[?25hInstalling collected packages: scikit-learn\n",
            "\u001b[31mERROR: pip's dependency resolver does not currently take into account all the packages that are installed. This behaviour is the source of the following dependency conflicts.\n",
            "imbalanced-learn 0.13.0 requires scikit-learn<2,>=1.3.2, but you have scikit-learn 1.3.1 which is incompatible.\u001b[0m\u001b[31m\n",
            "\u001b[0mSuccessfully installed scikit-learn-1.3.1\n"
          ]
        }
      ],
      "source": [
        "!pip uninstall -y scikit-learn\n",
        "!pip install scikit-learn==1.3.1"
      ]
    },
    {
      "cell_type": "code",
      "execution_count": 3,
      "metadata": {
        "id": "hcpIq9-3B7p_"
      },
      "outputs": [],
      "source": [
        "# Import required libraries\n",
        "import pandas as pd\n",
        "import numpy as np\n",
        "from sklearn.ensemble import RandomForestClassifier, StackingClassifier\n",
        "from sklearn.linear_model import LogisticRegression\n",
        "from xgboost import XGBClassifier\n",
        "import lightgbm as lgb\n",
        "from sklearn.model_selection import train_test_split\n",
        "from sklearn.metrics import accuracy_score\n",
        "from sklearn.preprocessing import LabelEncoder\n",
        "from sklearn.impute import SimpleImputer\n",
        "from sklearn.metrics import confusion_matrix\n",
        "from datetime import datetime\n",
        "\n",
        "pd.options.display.min_rows = 200"
      ]
    },
    {
      "cell_type": "code",
      "execution_count": 5,
      "metadata": {
        "colab": {
          "base_uri": "https://localhost:8080/"
        },
        "id": "LH4DmQkiB_0Y",
        "outputId": "5a45441f-6713-4638-8821-d21f3c545708"
      },
      "outputs": [
        {
          "output_type": "stream",
          "name": "stdout",
          "text": [
            "Categorical columns: 28\n"
          ]
        }
      ],
      "source": [
        "# Read dataset\n",
        "train = pd.read_csv('train_sys.csv')\n",
        "test = pd.read_csv('test_sys.csv')\n",
        "\n",
        "# Separate features and target from training data\n",
        "X = train.drop('target', axis=1)\n",
        "y = train['target']\n",
        "\n",
        "# First, let's identify categorical columns\n",
        "categorical_columns = X.select_dtypes(include=['object']).columns\n",
        "print(\"Categorical columns:\", len(categorical_columns))"
      ]
    },
    {
      "cell_type": "markdown",
      "metadata": {
        "id": "6dk-QZHdCGO9"
      },
      "source": [
        "## Feature Engineering"
      ]
    },
    {
      "cell_type": "code",
      "execution_count": 6,
      "metadata": {
        "colab": {
          "base_uri": "https://localhost:8080/"
        },
        "id": "_RvSrfwVCRsC",
        "outputId": "6b102098-5f1c-4aad-8f34-a70a7636ec60"
      },
      "outputs": [
        {
          "output_type": "stream",
          "name": "stdout",
          "text": [
            "Training set shape: (80000, 75)\n",
            "Validation set shape: (20000, 75)\n",
            "Test set shape: (10000, 75)\n"
          ]
        }
      ],
      "source": [
        "# Create a dictionary to store label encoders\n",
        "label_encoders = {}\n",
        "\n",
        "# Handle categorical variables for both training and test data together\n",
        "for column in categorical_columns:\n",
        "    # Combine train and test values to get all possible categories\n",
        "    all_values = pd.concat([X[column], test[column]]).astype(str).unique()\n",
        "\n",
        "    # Create and fit label encoder\n",
        "    le = LabelEncoder()\n",
        "    le.fit(all_values)\n",
        "\n",
        "    # Transform both train and test\n",
        "    X[column] = le.transform(X[column].astype(str))\n",
        "    test[column] = le.transform(test[column].astype(str))\n",
        "\n",
        "    # Store the encoder\n",
        "    label_encoders[column] = le\n",
        "\n",
        "# Handle missing values with SimpleImputer for training data\n",
        "imputer = SimpleImputer(strategy='mean')\n",
        "X = pd.DataFrame(imputer.fit_transform(X), columns=X.columns)\n",
        "\n",
        "# Handle missing values for test data\n",
        "test = pd.DataFrame(imputer.transform(test), columns=test.columns)\n",
        "\n",
        "# Create train-validation split (80-20)\n",
        "X_train, X_val, y_train, y_val = train_test_split(\n",
        "    X, y, test_size=0.2, random_state=0\n",
        ")\n",
        "\n",
        "# Print shapes\n",
        "print(\"\\\n",
        "Training set shape:\", X_train.shape)\n",
        "print(\"Validation set shape:\", X_val.shape)\n",
        "print(\"Test set shape:\", test.shape)"
      ]
    },
    {
      "cell_type": "code",
      "execution_count": 7,
      "metadata": {
        "colab": {
          "base_uri": "https://localhost:8080/"
        },
        "id": "ld_RxzmjEbLI",
        "outputId": "802d2c6d-e76d-464f-d716-a1385b8a8f8d"
      },
      "outputs": [
        {
          "output_type": "stream",
          "name": "stdout",
          "text": [
            "MachineID                             0\n",
            "ProductName                           0\n",
            "EngineVersion                         0\n",
            "AppVersion                            0\n",
            "SignatureVersion                      0\n",
            "IsBetaUser                            0\n",
            "RealTimeProtectionState               0\n",
            "IsPassiveModeEnabled                  0\n",
            "AntivirusConfigID                     0\n",
            "NumAntivirusProductsInstalled         0\n",
            "NumAntivirusProductsEnabled           0\n",
            "HasTpm                                0\n",
            "CountryID                             0\n",
            "CityID                                0\n",
            "GeoRegionID                           0\n",
            "LocaleEnglishNameID                   0\n",
            "PlatformType                          0\n",
            "Processor                             0\n",
            "OSVersion                             0\n",
            "OSBuildNumber                         0\n",
            "OSProductSuite                        0\n",
            "OsPlatformSubRelease                  0\n",
            "OSBuildLab                            0\n",
            "SKUEditionName                        0\n",
            "IsSystemProtected                     0\n",
            "AutoSampleSubmissionEnabled           0\n",
            "SMode                                 0\n",
            "IEVersionID                           0\n",
            "FirewallEnabled                       0\n",
            "EnableLUA                             0\n",
            "MDC2FormFactor                        0\n",
            "DeviceFamily                          0\n",
            "OEMNameID                             0\n",
            "OEMModelID                            0\n",
            "ProcessorCoreCount                    0\n",
            "ProcessorManufacturerID               0\n",
            "ProcessorModelID                      0\n",
            "PrimaryDiskCapacityMB                 0\n",
            "PrimaryDiskType                       0\n",
            "SystemVolumeCapacityMB                0\n",
            "HasOpticalDiskDrive                   0\n",
            "TotalPhysicalRAMMB                    0\n",
            "ChassisType                           0\n",
            "PrimaryDisplayDiagonalInches          0\n",
            "PrimaryDisplayResolutionHorizontal    0\n",
            "PrimaryDisplayResolutionVertical      0\n",
            "PowerPlatformRole                     0\n",
            "InternalBatteryNumberOfCharges        0\n",
            "NumericOSVersion                      0\n",
            "OSArchitecture                        0\n",
            "OSBranch                              0\n",
            "OSBuildNumberOnly                     0\n",
            "OSBuildRevisionOnly                   0\n",
            "OSEdition                             0\n",
            "OSSkuFriendlyName                     0\n",
            "OSInstallType                         0\n",
            "OSInstallLanguageID                   0\n",
            "OSUILocaleID                          0\n",
            "AutoUpdateOptionsName                 0\n",
            "IsPortableOS                          0\n",
            "OSGenuineState                        0\n",
            "LicenseActivationChannel              0\n",
            "IsFlightsDisabled                     0\n",
            "FlightRing                            0\n",
            "FirmwareManufacturerID                0\n",
            "FirmwareVersionID                     0\n",
            "IsSecureBootEnabled                   0\n",
            "IsVirtualDevice                       0\n",
            "IsTouchEnabled                        0\n",
            "IsPenCapable                          0\n",
            "IsAlwaysOnAlwaysConnectedCapable      0\n",
            "IsGamer                               0\n",
            "RegionIdentifier                      0\n",
            "DateAS                                0\n",
            "DateOS                                0\n"
          ]
        }
      ],
      "source": [
        "res = X_train.isnull().sum()\n",
        "print(res.to_string())\n"
      ]
    },
    {
      "cell_type": "markdown",
      "metadata": {
        "id": "-eyfwC5HCYU8"
      },
      "source": [
        "# Create an Ensemble"
      ]
    },
    {
      "cell_type": "code",
      "execution_count": null,
      "metadata": {
        "colab": {
          "background_save": true
        },
        "id": "he6x3aFCsXuu"
      },
      "outputs": [],
      "source": [
        "# Define and train the stacking ensemble\n",
        "# Define base models\n",
        "base_models = [\n",
        "    ('rf', RandomForestClassifier(n_estimators=200, random_state=0, n_jobs=-1)),\n",
        "    ('lgb', lgb.LGBMClassifier(n_estimators=392,\n",
        "              \t\t\t\t\t\t\t\t learning_rate=0.05,\n",
        "              \t\t\t\t\t\t\t\t max_depth=9,\n",
        "              \t\t\t\t\t\t\t\t num_leaves=63,\n",
        "              \t\t\t\t\t\t\t\t min_child_samples=33,\n",
        "              \t\t\t\t\t\t\t\t subsample=0.855,\n",
        "              \t\t\t\t\t\t\t\t colsample_bytree=0.732,\n",
        "              \t\t\t\t\t\t\t\t random_state=0,\n",
        "              \t\t\t\t\t\t\t\t verbose=-1)),\n",
        "    ('xgb', XGBClassifier(n_estimators=200, random_state=0, n_jobs=-1))\n",
        "]\n",
        "\n",
        "# Define meta-learner\n",
        "meta_learner = LogisticRegression()\n",
        "\n",
        "# Create stacking classifier\n",
        "stacking = StackingClassifier(\n",
        "    estimators=base_models,\n",
        "    final_estimator=meta_learner,\n",
        "    cv=5,\n",
        "    n_jobs=-1\n",
        ")\n",
        "\n",
        "# Train the model\n",
        "print(\"Training stacking ensemble...\")\n",
        "stacking.fit(X_train, y_train)\n",
        "\n",
        "# Make predictions on validation set\n",
        "val_predictions = stacking.predict(X_val)\n",
        "\n",
        "# Calculate and print validation accuracy\n",
        "val_accuracy = accuracy_score(y_val, val_predictions)\n",
        "print(\"\\\n",
        "Validation Accuracy: {:.4f}\".format(val_accuracy))\n",
        "\n",
        "# Make predictions on test set and save to CSV\n",
        "print(\"Making predictions on test set...\")\n",
        "test_predictions = stacking.predict(test)\n",
        "\n",
        "# Print confusion matrix for validation set\n",
        "val_confusion_matrix = confusion_matrix(y_val, val_predictions)\n",
        "print(\"Confusion Matrix for Validation Set:\")\n",
        "print(val_confusion_matrix)\n"
      ]
    },
    {
      "cell_type": "code",
      "execution_count": null,
      "metadata": {
        "colab": {
          "background_save": true
        },
        "id": "LSVlmfMnCd0V"
      },
      "outputs": [],
      "source": [
        "# Create submission file\n",
        "timestamp = datetime.now().strftime('%Y%m%d_%H%M%S')\n",
        "submission_filename = f'submission_{timestamp}.csv'\n",
        "submission = pd.DataFrame({\n",
        "    'id': range(len(test_predictions)),\n",
        "    'target': test_predictions\n",
        "})\n",
        "\n",
        "# Save predictions\n",
        "# submission.to_csv(submission_filename, index=False)\n",
        "print(f\"\\\n",
        "Predictions saved to {submission_filename}\")\n",
        "\n",
        "# Show first few predictions\n",
        "print(\"\\\n",
        "First few predictions:\")\n",
        "print(submission.head())"
      ]
    }
  ],
  "metadata": {
    "colab": {
      "provenance": [],
      "authorship_tag": "ABX9TyMCHyudYaxN+eHm3/u9zQVr"
    },
    "kernelspec": {
      "display_name": "Python 3",
      "name": "python3"
    },
    "language_info": {
      "name": "python"
    }
  },
  "nbformat": 4,
  "nbformat_minor": 0
}